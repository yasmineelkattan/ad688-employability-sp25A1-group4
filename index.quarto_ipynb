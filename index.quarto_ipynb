{
  "cells": [
    {
      "cell_type": "markdown",
      "metadata": {},
      "source": [
        "---\n",
        "title: \"Research Introduction: AI vs. Non-AI Careers\"\n",
        "author: \"Team 4\"\n",
        "date: today\n",
        "format: \n",
        "  html:\n",
        "    bibliography: references.bib\n",
        "    csl: csl/econometrica.csl\n",
        "    toc: true\n",
        "    css: styles.css\n",
        "    html-math-method: katex\n",
        "    embed-resources: false\n",
        "jupyter: python3\n",
        "\n",
        "---\n",
        "\n",
        "\n",
        "\n",
        "\n",
        "\n",
        "## Introduction\n",
        "\n",
        "Artificial Intelligence (Al) is rapidly transforming industries, reshaping job roles, and redefining employment patterns. While AI-driven automation raises concerns about job displacement, it also fosters job creation in emerging fields, As AI continues to integrate into various sectors in 2024 and future, understanding its impact on job security is essential. This study examines whether Ar is primarily displacing jobs or generating new opportunities, highlighting industries experiencing AI-driven growth versus those facing employment risks.\n",
        "\n",
        "## Research Rationale\n",
        "\n",
        "Recent studies indicate that AI is transforming the job market by automating roles in manufacturing, customer service, and administrative work, leading to job displacement. At the same time, it is driving demand for skilled professionals in AI development, cybersecurity, and data analysis, creating new career opportunities(@perrault2024artificial). As AI continues to evolve, workers will need to adapt by developing new skills, making AI-focused education and training increasingly essential.\n",
        "Although AI will displace certain tasks in manufacturing and administrative work it will also lead to the evolution of existing jobs. This has been something that has happened in the past with the evolution of technology and although it led to job displacement it also led to revolutionary strides in the efficiency of work. This in turn leads to economic and job growth which the masses should welcome and not turn away from (@george2024aifuture). Further not all jobs are replaceable, but they would greatly benefit from shifting to include some level of AI including supply chain, medicine, and manufacturing. With the correct training the transition to include AI will be critical to the shift the world will see as a result.\n",
        "This research aims to explore how AI is reshaping employment, balancing job losses with new job creation. The findings will provide valuable insights for businesses, policymakers, and workers, helping them navigate Al-driven changes and prepare for the future workforce. \n",
        "\n",
        "## Brief Literature Review\n",
        "\n",
        "Existing research highlights the growing divide between AI-driven careers and traditional industries.\n",
        "\n",
        "@perrault2024artificial In 2023, AI-related job postings accounted for 1.6% of all listings in the United States from 2.8% in 2022, This decline is linked to fewer openings from top Al firms and aCOwn.reduced emphasis on tech roles within these companies.\n",
        "\n",
        "@george2024aifuture The world has had multiple market evolutions including the Industrial Revolution which led to shifts in the machinery used and decreased the need for as many employees working in the fields. The number of employees working in agriculture decreased from 70% of the developed world in the mid-19th cenutry to 2-3% today. This led to an increase in people working in manufacturing to maintain the technology used in agriculture. The world would likely see a similar outcome once AI starts to present in more industries.\n",
        "\n",
        "\n",
        "## Trends and Insights From The Lightcast Dataset\n"
      ],
      "id": "91482859"
    },
    {
      "cell_type": "code",
      "metadata": {},
      "source": [
        "import matplotlib.pyplot as plt\n",
        "import plotly.express as px\n",
        "import pandas as pd"
      ],
      "id": "1f3f90fb",
      "execution_count": null,
      "outputs": []
    },
    {
      "cell_type": "markdown",
      "metadata": {},
      "source": [
        "### Data Collection & Cleaning\n",
        "\n",
        "Download a sample of the lightcast dataset from google drive. Load the CSV file into a pandas dataframe.\n"
      ],
      "id": "ada58adb"
    },
    {
      "cell_type": "code",
      "metadata": {},
      "source": [
        "df = pd.read_csv('data/lightcast_job_postings.csv')"
      ],
      "id": "23cd7f67",
      "execution_count": null,
      "outputs": []
    },
    {
      "cell_type": "markdown",
      "metadata": {},
      "source": [
        "Then, we carry out some data cleaning steps to remove unrelated items and properly deal with replace missing data.\n",
        "Here, we focus on full-time in-office non-internship roles.\n"
      ],
      "id": "5cd7ce17"
    },
    {
      "cell_type": "code",
      "metadata": {},
      "source": [
        "# remove duplicated rows\n",
        "# df = df.drop_duplicates(subset='ID')\n",
        "\n",
        "# convert date columns to datetime format\n",
        "# df['LAST_UPDATED_DATE'] = pd.to_datetime(df['LAST_UPDATED_DATE'])\n",
        "# df['LAST_UPDATED_TIMESTAMP'] = pd.to_datetime(df['LAST_UPDATED_TIMESTAMP'])\n",
        "# df['POSTED'] = pd.to_datetime(df['POSTED'])\n",
        "# df['EXPIRED'] = pd.to_datetime(df['EXPIRED'])\n",
        "\n",
        "# remove internship\n",
        "df = df[df['IS_INTERNSHIP'] == False]\n",
        "\n",
        "# remove non-full time jobs\n",
        "df = df[df['EMPLOYMENT_TYPE_NAME'] == 'Full-time (> 32 hours)']\n",
        "\n",
        "# remove remote/hybrid jobs, we want to focus on in-person jobs\n",
        "df = df[df['REMOTE_TYPE_NAME'] == '[None]']\n",
        "\n",
        "# missing salary data\n",
        "df['SALARY'] = df['SALARY'].fillna((df['SALARY_FROM'] + df['SALARY_TO']) / 2)  # mean if lower/upper bound avaiable\n",
        "df['SALARY'] = df['SALARY'].fillna(df['SALARY_FROM'])  # loewr bound if no upper bound presented\n",
        "df['SALARY'] = df['SALARY'].fillna(df['SALARY_TO'])  # upper bound if no lower bound presented"
      ],
      "id": "129caa9d",
      "execution_count": null,
      "outputs": []
    },
    {
      "cell_type": "markdown",
      "metadata": {},
      "source": [
        "### Identifying AI and Non-AI Jobs\n",
        "\n",
        "We identify AI/non-AI jobs by keyword searching.\n"
      ],
      "id": "243e2a6f"
    },
    {
      "cell_type": "code",
      "metadata": {},
      "source": [
        "keywords = ['AI', 'Artificial Intelligence', 'Machine Learning', 'Deep Learning',\n",
        "            'Data Science', 'Data Analysis', 'Data Analyst', 'Data Analytics',\n",
        "            'LLM', 'Language Model', 'NLP', 'Natural Language Processing',\n",
        "            'Computer Vision']\n",
        "\n",
        "match = lambda col: df[col].str.contains('|'.join(keywords), case=False, na=False)\n",
        "\n",
        "df['AI_JOB'] = match('TITLE_NAME') \\\n",
        "             | match('SKILLS_NAME') \\\n",
        "             | match('SPECIALIZED_SKILLS_NAME') \\\n",
        "             | match('LIGHTCAST_SECTORS_NAME')"
      ],
      "id": "a610c742",
      "execution_count": null,
      "outputs": []
    },
    {
      "cell_type": "markdown",
      "metadata": {},
      "source": [
        "### Trend 1: AI vs. Non-AI Job Across Industries\n",
        "\n",
        "We first compare the number of AI and Non-AI jobs across all industries.\n"
      ],
      "id": "0d633d29"
    },
    {
      "cell_type": "code",
      "metadata": {},
      "source": [
        "df_grouped = df.groupby(['AI_JOB', 'NAICS2_NAME']).size().reset_index(name='Job_Count')\n",
        "\n",
        "px.bar(df_grouped, x='NAICS2_NAME', y='Job_Count', color='AI_JOB',\n",
        "       title=\"AI vs. Non-AI Job Distribution Across Industries\",\n",
        "       labels={'NAICS2_NAME': 'Industry', 'Job_Count': 'Number of Jobs'},\n",
        "       barmode='group')"
      ],
      "id": "7364d2c3",
      "execution_count": null,
      "outputs": []
    },
    {
      "cell_type": "markdown",
      "metadata": {},
      "source": [
        "As we can see, there are almost always more AI jobs than non-AI jobs.\n",
        "\n",
        "### Trend 2: AI-driven Job Growth vs. Job Displacement\n",
        "\n",
        "Now we turn out eyes to job growth and job displacement.\n"
      ],
      "id": "3d3ff268"
    },
    {
      "cell_type": "code",
      "metadata": {},
      "source": [
        "df_grouped = df.groupby(['POSTED', 'AI_JOB']).size().reset_index(name='Job_Count')\n",
        "\n",
        "px.line(df_grouped, x='POSTED', y='Job_Count', color='AI_JOB',\n",
        "        title=\"AI vs. Non-AI Job Posted Over Time\",\n",
        "        labels={'POSTED_MONTH': 'Month', 'Job_Count': 'Number of Job Postings'},\n",
        "        markers=True)"
      ],
      "id": "c78849fe",
      "execution_count": null,
      "outputs": []
    },
    {
      "cell_type": "markdown",
      "metadata": {},
      "source": [
        "Overall, there are more newly posted AI jobs than non-AI jobs.\n"
      ],
      "id": "c23e1a77"
    },
    {
      "cell_type": "code",
      "metadata": {},
      "source": [
        "df_grouped = df.groupby(['AI_JOB', 'MIN_YEARS_EXPERIENCE']).size().reset_index(name='Job_Count')\n",
        "\n",
        "fig = px.bar(df_grouped, x='MIN_YEARS_EXPERIENCE', y='Job_Count', color='AI_JOB',\n",
        "            title=\"AI vs. Non-AI Jobs by Minimum Years of Experience\",\n",
        "            labels={'MIN_YEARS_EXPERIENCE': 'Min Years of Experience', 'Job_Count': 'Number of Jobs'},\n",
        "            barmode='group')\n",
        "fig.show()\n",
        "\n",
        "df_grouped = df[df['SALARY'].notna()].groupby(['AI_JOB', 'MIN_YEARS_EXPERIENCE'])['SALARY'].mean().reset_index()\n",
        "\n",
        "fig = px.bar(df_grouped, x=['AI_JOB', 'MIN_YEARS_EXPERIENCE'], y='SALARY',\n",
        "             title=\"Average Salary: AI vs. Non-AI Jobs\",\n",
        "             labels={'AI_JOB': 'Job Type', 'SALARY': 'Average Salary'},\n",
        "             color='AI_JOB')\n",
        "fig.show()"
      ],
      "id": "c9f4257b",
      "execution_count": null,
      "outputs": []
    },
    {
      "cell_type": "markdown",
      "metadata": {},
      "source": [
        "Further investigate into the required YoE of the posted jobs,\n",
        "one can see that AI jobs generally require less experience than traditional non-AI ones.\n",
        "In other words, AI related industry demands more junior roles and less senior roles compared to the traditional industry\n",
        "\n",
        "### Trend 3: Skill in AI Roles vs. Traditional Roles\n",
        "\n",
        "As we have seen, nearly every industry now requires a significant number of AI roles.\n",
        "One might interest in what are the valuable skills workers should develop to land in an AI job?\n"
      ],
      "id": "11f48500"
    },
    {
      "cell_type": "code",
      "metadata": {},
      "source": [
        "import ast\n",
        "df['SKILLS'] = df['SKILLS_NAME'].apply(ast.literal_eval)\n",
        "\n",
        "ai_skills = df[df['AI_JOB']]['SKILLS'].explode().value_counts().head(20).reset_index()\n",
        "ai_skills.columns = ['Skill', 'Count']\n",
        "\n",
        "fig = px.bar(ai_skills, x='Skill', y='Count',\n",
        "             title=\"Top AI Job Skills\",\n",
        "             labels={'Skill': 'Skill Name', 'Count': 'Frequency'},\n",
        "             color='Skill')\n",
        "fig.show()\n",
        "\n",
        "traditional_skills = df[~df['AI_JOB']]['SKILLS'].explode().value_counts().head(20).reset_index()\n",
        "traditional_skills.columns = ['Skill', 'Count']\n",
        "\n",
        "fig = px.bar(traditional_skills, x='Skill', y='Count',\n",
        "             title=\"Top Traditional Job Skills\",\n",
        "             labels={'Skill': 'Skill Name', 'Count': 'Frequency'},\n",
        "             color='Skill')\n",
        "fig.show()"
      ],
      "id": "7e855f33",
      "execution_count": null,
      "outputs": []
    },
    {
      "cell_type": "markdown",
      "metadata": {},
      "source": [
        "As we can see, data sciene skills e.g. (SQL, data analysis, and programming) are favorable in AI related jobs.\n",
        "In the contrary, traditional jobs value candidates with strong communication and management skills.\n",
        "\n",
        "### Trend 4: Emerging AI Job\n",
        "\n",
        "While many traditional jobs are in the process of adopting AI-related technologies.\n",
        "There are many AI jobs emerging.\n",
        "\n",
        "We note that **Data Analyst** is the fastest growing AI job.\n"
      ],
      "id": "832baf08"
    },
    {
      "cell_type": "code",
      "metadata": {},
      "source": [
        "job_titles = df[df['AI_JOB']]['TITLE_NAME'].value_counts().head(20).reset_index()\n",
        "job_titles.columns = ['Job_Title', 'Count']\n",
        "\n",
        "px.bar(job_titles, x='Job_Title', y='Count',\n",
        "       title=\"Top Emerging AI Job Titles\",\n",
        "       labels={'Job_Title': 'Job Title', 'Count': 'Frequency'},\n",
        "       color='Job_Title')"
      ],
      "id": "ae4147ed",
      "execution_count": null,
      "outputs": []
    },
    {
      "cell_type": "markdown",
      "metadata": {},
      "source": [
        "## References\n"
      ],
      "id": "b722bd86"
    }
  ],
  "metadata": {
    "kernelspec": {
      "name": "python3",
      "language": "python",
      "display_name": "Python 3 (ipykernel)",
      "path": "/Users/cjy/Desktop/Repositories/ad688-employability-sp25A1-group4/.venv/share/jupyter/kernels/python3"
    }
  },
  "nbformat": 4,
  "nbformat_minor": 5
}